{
 "cells": [
  {
   "cell_type": "code",
   "execution_count": 66,
   "metadata": {},
   "outputs": [
    {
     "name": "stdout",
     "output_type": "stream",
     "text": [
      "Timeout waiting for 'Toggle preview' button to become clickable on https://ad-archive.nexxxt.cloud/#  \n"
     ]
    }
   ],
   "source": [
    "from selenium import webdriver\n",
    "from selenium.webdriver.common.by import By\n",
    "from selenium.webdriver.support.ui import WebDriverWait\n",
    "from selenium.webdriver.support import expected_conditions as EC\n",
    "from selenium.common.exceptions import TimeoutException\n",
    "import time \n",
    "\n",
    "\n",
    "# List of URLs to visit\n",
    "urls = [\n",
    "'https://ad-archive.nexxxt.cloud/#865415801703393',\n",
    "'https://ad-archive.nexxxt.cloud/#830801275198394',\n",
    "'https://ad-archive.nexxxt.cloud/#1347596355851967',\n",
    "'https://ad-archive.nexxxt.cloud/#303614489083719',\n",
    "'https://ad-archive.nexxxt.cloud/#229042286847281',\n",
    "'https://ad-archive.nexxxt.cloud/#835927391594858',\n",
    "'https://ad-archive.nexxxt.cloud/#309452288391207',\n",
    "'https://ad-archive.nexxxt.cloud/#1276600620404049',\n",
    "'https://ad-archive.nexxxt.cloud/#3704975499730849',\n",
    "'https://ad-archive.nexxxt.cloud/#226124397105208',\n",
    "'https://ad-archive.nexxxt.cloud/#1882642728797454',\n",
    "'https://ad-archive.nexxxt.cloud/#1239231570094983',\n",
    "'https://ad-archive.nexxxt.cloud/#282448728057375',\n",
    "'https://ad-archive.nexxxt.cloud/#179109468469780',\n",
    "'https://ad-archive.nexxxt.cloud/#847394319958213',\n",
    "'https://ad-archive.nexxxt.cloud/#310194131659692',\n",
    "'https://ad-archive.nexxxt.cloud/#841595380839376',\n",
    "'https://ad-archive.nexxxt.cloud/#713467157278636',\n",
    "'https://ad-archive.nexxxt.cloud/#334412795647170',\n",
    "'https://ad-archive.nexxxt.cloud/#3687985341526785',\n",
    "'https://ad-archive.nexxxt.cloud/#265514659696787',\n",
    "'https://ad-archive.nexxxt.cloud/#1356875048542403',]\n",
    "\n",
    "# Initialize the WebDriver (you might need to specify the path to your WebDriver executable)\n",
    "driver = webdriver.Chrome()\n",
    "\n",
    "for url in urls:\n",
    "    # Open a new tab\n",
    "    driver.execute_script(\"window.open('about:blank', 'new_tab')\")\n",
    "    driver.switch_to.window(\"new_tab\")\n",
    "\n",
    "    # Open the webpage in the new tab\n",
    "    driver.get(url)\n",
    "\n",
    "    try:\n",
    "        # Wait for the \"Toggle preview\" button to become clickable (up to 10 seconds)\n",
    "        wait = WebDriverWait(driver, 10)\n",
    "        toggle_preview_button = wait.until(EC.element_to_be_clickable((By.XPATH, \"//a[contains(., 'Toggle preview')]\")))\n",
    "\n",
    "        # Click the button\n",
    "        toggle_preview_button.click()\n",
    "        time.sleep(5)  # Add a 5-second delay\n",
    "\n",
    "    except TimeoutException:\n",
    "        print(\"Timeout waiting for 'Toggle preview' button to become clickable on\", url)\n",
    "\n",
    "# Close the WebDriver when done\n",
    "driver.quit()\n"
   ]
  },
  {
   "cell_type": "code",
   "execution_count": null,
   "metadata": {},
   "outputs": [],
   "source": []
  }
 ],
 "metadata": {
  "kernelspec": {
   "display_name": "Python 3",
   "language": "python",
   "name": "python3"
  },
  "language_info": {
   "codemirror_mode": {
    "name": "ipython",
    "version": 3
   },
   "file_extension": ".py",
   "mimetype": "text/x-python",
   "name": "python",
   "nbconvert_exporter": "python",
   "pygments_lexer": "ipython3",
   "version": "3.10.4"
  },
  "orig_nbformat": 4
 },
 "nbformat": 4,
 "nbformat_minor": 2
}
