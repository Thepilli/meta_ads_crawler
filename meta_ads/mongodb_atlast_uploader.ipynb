{
 "cells": [
  {
   "cell_type": "code",
   "execution_count": null,
   "metadata": {},
   "outputs": [],
   "source": [
    "from pymongo import MongoClient\n",
    "import json\n",
    "\n",
    "# Replace the connection string with your own from MongoDB Atlas\n",
    "connection_string = \"your_connection_string_here\"\n",
    "\n",
    "# JSON document to insert\n",
    "json_document = '''\n",
    "{\n",
    "  \"name\": \"John Doe\",\n",
    "  \"age\": 30,\n",
    "  \"email\": \"john@example.com\",\n",
    "  \"address\": {\n",
    "    \"city\": \"New York\",\n",
    "    \"state\": \"NY\"\n",
    "  }\n",
    "}\n",
    "'''\n",
    "\n",
    "# Convert the JSON string to a Python dictionary\n",
    "data = json.loads(json_document)\n",
    "\n",
    "# Connect to MongoDB Atlas\n",
    "client = MongoClient(connection_string)\n",
    "\n",
    "# Access a database\n",
    "db = client[\"your_database_name\"]\n",
    "\n",
    "# Access a collection\n",
    "collection = db[\"your_collection_name\"]\n",
    "\n",
    "# Insert the JSON document into the collection\n",
    "result = collection.insert_one(data)\n",
    "\n",
    "# Print the inserted document's ID\n",
    "print(\"Inserted document ID:\", result.inserted_id)\n"
   ]
  }
 ],
 "metadata": {
  "language_info": {
   "name": "python"
  }
 },
 "nbformat": 4,
 "nbformat_minor": 2
}
